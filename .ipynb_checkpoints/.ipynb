weight_kg = [81.65, 97.52, 95.25, 92.98, 86.18, 88.45]

import numpy as np

np_weight_kg = np.array(weight_kg)

np_weight_lbs = np_weight_kg * 2.2

print(np_weight_lbs)



import pandas as pd
cars = pd.read_csv('cars.csv', index_col = 0)


print(cars.iloc[2])


print(cars.loc[['AUS', 'EG']])